{
 "cells": [
  {
   "cell_type": "markdown",
   "metadata": {},
   "source": [
    "# Create Model Area\n",
    "\n",
    "**Timm Nawrocki**  \n",
    "Alaska Center for Conservation Science  \n",
    "2019-03-19"
   ]
  },
  {
   "cell_type": "code",
   "execution_count": null,
   "metadata": {},
   "outputs": [],
   "source": [
    "# -*- coding: utf-8 -*-\n",
    "# ---------------------------------------------------------------------------\n",
    "# Create Model Area\n",
    "# Author: Timm Nawrocki\n",
    "# Created on: 2019-03-19\n",
    "# Usage: Must be executed as a Jupyter Notebook in an ArcGIS Pro Python 3 installation.\n",
    "# Description: \"Create Model Area\" generates a polygon from an array of x, y coordinates that will serve as the general modeling area for data download and processing.\n",
    "# ---------------------------------------------------------------------------"
   ]
  },
  {
   "cell_type": "markdown",
   "metadata": {},
   "source": [
    "## 1. Initialize Environment"
   ]
  },
  {
   "cell_type": "code",
   "execution_count": 1,
   "metadata": {},
   "outputs": [],
   "source": [
    "# Import packages\n",
    "import arcpy\n",
    "import fileinput\n",
    "import numpy as np\n",
    "import os\n",
    "\n",
    "# Set overwrite option\n",
    "arcpy.env.overwriteOutput = True\n",
    "\n",
    "# Set arcpy working environment\n",
    "arcpy.env.workspace = \"K:/VegetationEcology/BristolBay_Vegetation/Project_GIS/BristolBay_Vegetation.gdb\"\n",
    "\n",
    "# Define input array\n",
    "point_array = [[-160.00218, 61.52927],\n",
    "               [-152.79699, 61.07407],\n",
    "               [-152.70467, 58.66074],\n",
    "               [-157.69984, 56.33955],\n",
    "               [-159.49354, 56.97233],\n",
    "               [-163.09044, 58.59629],\n",
    "               [-160.84181, 61.57616]]\n",
    "\n",
    "# Define input datasets\n",
    "alaska_boundary = 'K:/VegetationEcology/BristolBay_Vegetation/Project_GIS/Data_Input/source_data/boundaries/Alaska_63360_ExcludingSmallIslands.shp'\n",
    "\n",
    "# Define spatial references\n",
    "geographic_reference = 4326 #GCS WGS 1984\n",
    "projected_reference = 3338 #NAD 1983 Alaska Albers\n",
    "\n",
    "# Define output feature class\n",
    "model_area_full = \"SouthwestAlaska_ModelArea_Full\"\n",
    "model_area_clipped = \"SouthwestAlaska_ModelArea_Clipped\""
   ]
  },
  {
   "cell_type": "code",
   "execution_count": 2,
   "metadata": {},
   "outputs": [],
   "source": [
    "# Import and execute arcpy_geoprocessing.py\n",
    "try:\n",
    "    exec(open(arcpy_geoprocessing_script).read())\n",
    "except:\n",
    "    print(\"Error loading arcpy_geoprocessing.py; ensure that script directory is correct:\")\n",
    "    print(script_directory)\n",
    "    quit()"
   ]
  },
  {
   "cell_type": "markdown",
   "metadata": {},
   "source": [
    "## 2. Create Polygon"
   ]
  },
  {
   "cell_type": "code",
   "execution_count": 3,
   "metadata": {},
   "outputs": [],
   "source": [
    "# Define function to create polygon feature class\n",
    "def create_polygon(**kwargs):\n",
    "    \"\"\"\n",
    "    Description: creates a polygon feature class with vertices read from an array\n",
    "    Inputs: 'point_array' -- an array of x, y coordinates\n",
    "            'output' -- the output should be a feature class\n",
    "            'output_path' -- the output path is the directory in which the new feature class is created\n",
    "    \"\"\"\n",
    "    # Create a new polygon feature class\n",
    "    arcpy.CreateFeatureclass_management(kwargs['output_path'],\n",
    "                                        'modelArea_initial',\n",
    "                                        'POLYGON')\n",
    "    # Define spatial reference and add projection to new feature class\n",
    "    spatial_reference = arcpy.SpatialReference(kwargs['spatial_reference'])\n",
    "    output_file = os.path.join(kwargs['output_path'], kwargs['output'])\n",
    "    arcpy.DefineProjection_management(output_file, spatial_reference)\n",
    "    # Initiate an insert cursor and insert an array of vertices for a polygon\n",
    "    with arcpy.da.InsertCursor(output_file, [\"SHAPE@\"]) as cursor:\n",
    "        array = arcpy.Array()\n",
    "        for point in kwargs['point_array']:\n",
    "            X = point[0]\n",
    "            Y = point[1]\n",
    "            array.add(arcpy.Point(X, Y))\n",
    "        cursor.insertRow([arcpy.Polygon(array)])\n",
    "    # Project polygon\n",
    "    output_feature = os.path.join(kwargs['output_path'], os.path.split(kwargs['output'])[1]\n",
    "    \n",
    "    # Delete intermediate dataset\n",
    "    out_process = arcpy.Delete_management(os.path.join(kwargs['output_path'], 'modelArea_initial'))\n",
    "    # Return success message to the user\n",
    "    print(\"------------\")\n",
    "    out_process = \"Successfully created polygon feature\"\n",
    "    return out_process"
   ]
  },
  {
   "cell_type": "code",
   "execution_count": 4,
   "metadata": {},
   "outputs": [
    {
     "name": "stdout",
     "output_type": "stream",
     "text": [
      "------------\n",
      "Successfully created polygon feature\n"
     ]
    }
   ],
   "source": [
    "# Create key word arguments\n",
    "create_polygon_kwargs = {'point_array' : point_array,\n",
    "                         'output' : model_area,\n",
    "                         'output_path' : arcpy.env.workspace,\n",
    "                         'spatial_reference' : geographic_reference}\n",
    "\n",
    "# Process the create polygon function with the point array\n",
    "arcpy_geoprocessing(create_polygon, check_input = False, **create_polygon_kwargs)"
   ]
  },
  {
   "cell_type": "markdown",
   "metadata": {},
   "source": [
    "## 3. Process Polygon"
   ]
  },
  {
   "cell_type": "code",
   "execution_count": null,
   "metadata": {},
   "outputs": [],
   "source": []
  }
 ],
 "metadata": {
  "kernelspec": {
   "display_name": "Python 3",
   "language": "python",
   "name": "python3"
  },
  "language_info": {
   "codemirror_mode": {
    "name": "ipython",
    "version": 3
   },
   "file_extension": ".py",
   "mimetype": "text/x-python",
   "name": "python",
   "nbconvert_exporter": "python",
   "pygments_lexer": "ipython3",
   "version": "3.6.6"
  }
 },
 "nbformat": 4,
 "nbformat_minor": 2
}
