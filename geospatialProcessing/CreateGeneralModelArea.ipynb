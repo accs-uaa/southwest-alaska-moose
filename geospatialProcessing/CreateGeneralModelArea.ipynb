{
 "cells": [
  {
   "cell_type": "code",
   "execution_count": 1,
   "metadata": {},
   "outputs": [],
   "source": [
    "# Import packages\n",
    "import arcpy\n",
    "import fileinput\n",
    "import numpy as np\n",
    "import os\n",
    "\n",
    "# Set overwrite option\n",
    "arcpy.env.overwriteOutput = True\n",
    "\n",
    "# Set arcpy working environment\n",
    "arcpy.env.workspace = \"K:/VegetationEcology/BristolBay_Vegetation/Project_GIS/BristolBay_Vegetation.gdb\""
   ]
  },
  {
   "cell_type": "code",
   "execution_count": 2,
   "metadata": {},
   "outputs": [],
   "source": [
    "# Define a wrapper function for arcpy geoprocessing tasks\n",
    "def arcpy_geoprocessing(geoprocessing_function, check_output = True, check_input = True, **kwargs):\n",
    "    \"\"\"\n",
    "    Description: wraps arcpy geoprocessing and data access functions for file checks, message reporting, and errors.\n",
    "    Inputs: geoprocessing function -- any arcpy geoprocessing or data access processing steps defined as a function that receive ** kwargs arguments.\n",
    "            check_output -- boolean input to control if the function should check if the output already exists prior to executing geoprocessing function\n",
    "            check_input -- boolean input to control if the function should check if the inputs already exist prior to executing geoprocessing function\n",
    "            **kwargs -- key word arguments that are used in the wrapper and passed to the geoprocessing function\n",
    "                'input_array' -- if check_input == True, then the input datasets must be passed as an array\n",
    "                'output' -- if check_output == True, then the output dataset must be defined\n",
    "    Returned Value: Function returns messages, warnings, and errors from geoprocessing functions.\n",
    "    Preconditions: geoprocessing function and kwargs must be defined, this function does not conduct any geoprocessing on its own\n",
    "    \"\"\"\n",
    "    try:\n",
    "        # If check_output is True, then check if output exists and warn of overwrite if it does\n",
    "        if check_output == True and arcpy.Exists(kwargs['output']):\n",
    "            print(kwargs['output'] + \" already exists and will be overwritten\")\n",
    "        # If check_input is True, then check if inputs exist and quit if any do not\n",
    "        if check_input == True:\n",
    "            for input_data in kwargs['input_array']:\n",
    "                if arcpy.Exists(input_data) != True:\n",
    "                    print(input_data + \" does not exist. Check that environment workspace is correct.\")\n",
    "                    quit()\n",
    "        # Execute geoprocessing function if all input data exists\n",
    "        out_process = geoprocessing_function(**kwargs)\n",
    "        # Provide results report\n",
    "        try:\n",
    "            msg_count = out_process.messageCount\n",
    "            print(out_process.getMessage(msg_count - 1))\n",
    "        except:\n",
    "            print(out_process)\n",
    "    # Provide arcpy errors for execution error\n",
    "    except arcpy.ExecuteError as err:\n",
    "        print(arcpy.GetMessages())"
   ]
  },
  {
   "cell_type": "code",
   "execution_count": 3,
   "metadata": {},
   "outputs": [],
   "source": [
    "# Define function to create polygon feature class\n",
    "def create_polygon(**kwargs):\n",
    "    \"\"\"\n",
    "    Description: creates a polygon feature class with vertices read from an array\n",
    "    Inputs: 'point_array' -- an array of x, y coordinates\n",
    "            'output' -- the output should be a feature class\n",
    "            'output_path' -- the output path is the directory in which the new feature class is created\n",
    "    \"\"\"\n",
    "    # Create a new polygon feature class\n",
    "    arcpy.CreateFeatureclass_management(kwargs['output_path'],\n",
    "                                        os.path.split(kwargs['output'])[1],\n",
    "                                        'POLYGON')\n",
    "    # Define spatial reference and add projection to new feature class\n",
    "    spatial_reference = arcpy.SpatialReference(kwargs['spatial_reference'])\n",
    "    output_file = os.path.join(kwargs['output_path'], kwargs['output'])\n",
    "    arcpy.DefineProjection_management(output_file, spatial_reference)\n",
    "    # Initiate an insert cursor and insert an array of vertices for a polygon\n",
    "    with arcpy.da.InsertCursor(output_file, [\"SHAPE@\"]) as cursor:\n",
    "        array = arcpy.Array()\n",
    "        for point in kwargs['point_array']:\n",
    "            X = point[0]\n",
    "            Y = point[1]\n",
    "            array.add(arcpy.Point(X, Y))\n",
    "        cursor.insertRow([arcpy.Polygon(array)])\n",
    "    # Return success message to the user\n",
    "    print(\"------------\")\n",
    "    out_process = \"Successfully created polygon feature\"\n",
    "    return out_process"
   ]
  },
  {
   "cell_type": "code",
   "execution_count": 4,
   "metadata": {},
   "outputs": [
    {
     "name": "stdout",
     "output_type": "stream",
     "text": [
      "------------\n",
      "Successfully created polygon feature\n"
     ]
    }
   ],
   "source": [
    "# Define input array\n",
    "point_array = [[-160.00218, 61.52927],\n",
    "               [-152.79699, 61.07407],\n",
    "               [-153.07435, 58.82993],\n",
    "               [-157.69984, 56.33955],\n",
    "               [-159.49354, 56.97233],\n",
    "               [-163.09044, 58.59629],\n",
    "               [-160.84181, 61.57616]]\n",
    "\n",
    "# Define output feature class\n",
    "output_path = arcpy.env.workspace\n",
    "model_area = \"modelArea\"\n",
    "\n",
    "# Create key word arguments\n",
    "create_polygon_kwargs = {'point_array' : point_array,\n",
    "                         'output' : model_area,\n",
    "                         'output_path' : output_path,\n",
    "                         'spatial_reference' : 4326}\n",
    "\n",
    "# Process the create polygon function with the point array\n",
    "arcpy_geoprocessing(create_polygon, check_input = False, **create_polygon_kwargs)"
   ]
  }
 ],
 "metadata": {
  "kernelspec": {
   "display_name": "Python 3",
   "language": "python",
   "name": "python3"
  },
  "language_info": {
   "codemirror_mode": {
    "name": "ipython",
    "version": 3
   },
   "file_extension": ".py",
   "mimetype": "text/x-python",
   "name": "python",
   "nbconvert_exporter": "python",
   "pygments_lexer": "ipython3",
   "version": "3.6.6"
  }
 },
 "nbformat": 4,
 "nbformat_minor": 2
}
