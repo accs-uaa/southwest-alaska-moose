{
 "cells": [
  {
   "cell_type": "code",
   "execution_count": 1,
   "metadata": {},
   "outputs": [],
   "source": [
    "import arcpy\n",
    "import rasterio\n",
    "from rasterio.merge import merge\n",
    "import os"
   ]
  },
  {
   "cell_type": "code",
   "execution_count": 2,
   "metadata": {},
   "outputs": [],
   "source": [
    "raster_directory = 'K:/ACCS_Work/Projects/VegetationEcology/BristolBay_Vegetation/Project_GIS/Data_Output/model_floodplain/output_rasters'\n",
    "output_raster = 'K:/ACCS_Work/Projects/VegetationEcology/BristolBay_Vegetation/Project_GIS/Data_Output/model_floodplain/output.tif'\n",
    "tif_directory = 'K:/ACCS_Work/Projects/VegetationEcology/BristolBay_Vegetation/Project_GIS/Data_Output/model_floodplain/output_tifs'"
   ]
  },
  {
   "cell_type": "code",
   "execution_count": 3,
   "metadata": {},
   "outputs": [],
   "source": [
    "# Create a list of Arctic DEM raster tiles\n",
    "tile_list = []\n",
    "for file in os.listdir(raster_directory):\n",
    "    if file.endswith('img'):\n",
    "        tile_list.append(os.path.join(raster_directory, file))"
   ]
  },
  {
   "cell_type": "code",
   "execution_count": 4,
   "metadata": {},
   "outputs": [],
   "source": [
    "# Convert to tif\n",
    "for file in tile_list:\n",
    "    out_raster = os.path.join(tif_directory, os.path.splitext(os.path.split(file)[1])[0] + '.tif')\n",
    "    arcpy.CopyRaster_management(file, out_raster, '', '', '', '', '', '32_BIT_FLOAT', 'NONE', 'NONE')"
   ]
  },
  {
   "cell_type": "code",
   "execution_count": 5,
   "metadata": {},
   "outputs": [],
   "source": [
    "# Create a list of Arctic DEM raster tiles\n",
    "tif_list = []\n",
    "for file in os.listdir(tif_directory):\n",
    "    if file.endswith('tif'):\n",
    "        tif_list.append(os.path.join(tif_directory, file))"
   ]
  },
  {
   "cell_type": "code",
   "execution_count": 6,
   "metadata": {},
   "outputs": [],
   "source": [
    "src_files_to_mosaic = []\n",
    "for fp in tif_list:\n",
    "    src = rasterio.open(fp)\n",
    "    src_files_to_mosaic.append(src)"
   ]
  },
  {
   "cell_type": "code",
   "execution_count": 7,
   "metadata": {},
   "outputs": [],
   "source": [
    "mosaic, out_trans = merge(src_files_to_mosaic)\n",
    "out_meta = src.meta.copy()\n",
    "out_meta.update({\"driver\": \"GTiff\",\n",
    "                 \"height\": mosaic.shape[1],\n",
    "                 \"width\": mosaic.shape[2],\n",
    "                 \"transform\": out_trans\n",
    "                })\n",
    "with rasterio.open(output_raster, 'w', **out_meta) as dest:\n",
    "    dest.write(mosaic)"
   ]
  },
  {
   "cell_type": "code",
   "execution_count": 8,
   "metadata": {},
   "outputs": [
    {
     "data": {
      "text/plain": [
       "{'driver': 'GTiff',\n",
       " 'dtype': 'float32',\n",
       " 'nodata': -3.3999999521443642e+38,\n",
       " 'width': 15239,\n",
       " 'height': 14331,\n",
       " 'count': 1,\n",
       " 'crs': None,\n",
       " 'transform': Affine(10.0, 0.0, -303500.694135,\n",
       "        0.0, -10.0, 1138704.7326)}"
      ]
     },
     "execution_count": 8,
     "metadata": {},
     "output_type": "execute_result"
    }
   ],
   "source": [
    "out_meta"
   ]
  },
  {
   "cell_type": "code",
   "execution_count": null,
   "metadata": {},
   "outputs": [],
   "source": []
  }
 ],
 "metadata": {
  "kernelspec": {
   "display_name": "Python 3",
   "language": "python",
   "name": "python3"
  },
  "language_info": {
   "codemirror_mode": {
    "name": "ipython",
    "version": 3
   },
   "file_extension": ".py",
   "mimetype": "text/x-python",
   "name": "python",
   "nbconvert_exporter": "python",
   "pygments_lexer": "ipython3",
   "version": "3.6.6"
  }
 },
 "nbformat": 4,
 "nbformat_minor": 2
}
