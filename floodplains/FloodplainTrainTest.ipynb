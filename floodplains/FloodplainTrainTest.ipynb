{
 "cells": [
  {
   "cell_type": "markdown",
   "metadata": {},
   "source": [
    "# Floodplain Train and Test\n",
    "\n",
    "**Timm Nawrocki**  \n",
    "Alaska Center for Conservation Science  \n",
    "2019-04-19"
   ]
  },
  {
   "cell_type": "code",
   "execution_count": 1,
   "metadata": {},
   "outputs": [],
   "source": [
    "# -*- coding: utf-8 -*-\n",
    "# ---------------------------------------------------------------------------\n",
    "# Floodplain Train and Test\n",
    "# Author: Timm Nawrocki, Alaska Center for Conservation Science\n",
    "# Created on: 2019-04-19\n",
    "# Usage: Must be executed as a Jupyter Notebook in an Anaconda 3 installation.\n",
    "# Description: \"Floodplain Train and Test\" trains a classifier to predict floodplain presence and absence. All model performance metrics are calculated on independent test partitions.\n",
    "# ---------------------------------------------------------------------------"
   ]
  },
  {
   "cell_type": "markdown",
   "metadata": {},
   "source": [
    "## 1. Initialize Environment"
   ]
  },
  {
   "cell_type": "code",
   "execution_count": 2,
   "metadata": {},
   "outputs": [],
   "source": [
    "# Import packages\n",
    "import datetime\n",
    "import matplotlib.pyplot as plot\n",
    "import numpy as np\n",
    "import pandas as pd\n",
    "import os\n",
    "import seaborn as sns\n",
    "import time\n",
    "# Import modules for model selection, cross validation, random forest, and performance from Scikit Learn\n",
    "from sklearn.utils import shuffle\n",
    "from sklearn.feature_selection import RFECV\n",
    "from sklearn.model_selection import ShuffleSplit\n",
    "from sklearn.model_selection import cross_val_score\n",
    "from sklearn.model_selection import train_test_split\n",
    "from sklearn.ensemble import RandomForestClassifier\n",
    "from sklearn.metrics import accuracy_score\n",
    "from sklearn.metrics import confusion_matrix\n",
    "from sklearn.metrics import roc_curve\n",
    "from sklearn.metrics import auc\n",
    "from sklearn.metrics import roc_auc_score\n",
    "from sklearn.externals import joblib\n",
    "\n",
    "# Set root directory\n",
    "drive = 'E:/'\n",
    "root_directory = os.path.join(drive, 'ACCS_Work/Projects/VegetationEcology/BristolBay_Vegetation/Project_GIS/Data_Output')\n",
    "\n",
    "# Create a plots folder if it does not exists\n",
    "plots_folder = os.path.join(root_directory, 'model_floodplain/plots')\n",
    "if not os.path.exists(plots_folder):\n",
    "    os.makedirs(plots_folder)\n",
    "\n",
    "# Define input dataset\n",
    "sample_file = os.path.join(root_directory, 'sample_floodplain/FloodplainSample_NuyakukAleknagik.csv')\n",
    "\n",
    "# Define output files\n",
    "output_classifier = os.path.join(root_directory, 'model_floodplain/classifier_floodplain.joblib')\n",
    "output_csv = os.path.join(root_directory, 'model_floodplain/output_test.csv')\n",
    "output_report = os.path.join(root_directory, 'model_floodplain/report_floodplain.html')\n",
    "threshold_file = os.path.join(root_directory, 'model_floodplain/threshold.txt')\n",
    "metrics_file = os.path.join(root_directory, 'model_floodplain/metrics.csv')\n",
    "\n",
    "# Define plots\n",
    "classifier_feature_file = os.path.join(plots_folder, \"classifier_feature_elimination.png\")\n",
    "importance_classifier = os.path.join(plots_folder, \"importance_classifier.png\")\n",
    "variable_correlation = os.path.join(plots_folder, \"variable_correlation.png\")"
   ]
  },
  {
   "cell_type": "code",
   "execution_count": 3,
   "metadata": {},
   "outputs": [],
   "source": [
    "# Define variable sets\n",
    "predictor_env = ['aspect', 'compoundTopographic', 'dateFreeze', 'dateThaw', 'elevation', 'exposure', 'growingSeason', 'heatLoad', 'moisture', 'precipitation', 'roughness', 'slope', 'summerWarmth', 'surfaceArea', 'surfaceRelief']\n",
    "predictor_may = ['X05May_1_ultraBlue', 'X05May_2_blue', 'X05May_3_green', 'X05May_4_red', 'X05May_5_redEdge1', 'X05May_6_redEdge2', 'X05May_7_redEdge3', 'X05May_8_nearInfrared', 'X05May_8a_redEdge4', 'X05May_11_shortInfrared1', 'X05May_12_shortInfrared2', 'X05May_nbr', 'X05May_ndmi', 'X05May_ndsi', 'X05May_ndvi', 'X05May_ndwi']\n",
    "predictor_jun = ['X06June_1_ultraBlue', 'X06June_2_blue', 'X06June_3_green', 'X06June_4_red', 'X06June_5_redEdge1', 'X06June_6_redEdge2', 'X06June_7_redEdge3', 'X06June_8_nearInfrared', 'X06June_8a_redEdge4', 'X06June_11_shortInfrared1', 'X06June_12_shortInfrared2', 'X06June_nbr', 'X06June_ndmi', 'X06June_ndsi', 'X06June_ndvi', 'X06June_ndwi']\n",
    "predictor_jul = ['X07July_1_ultraBlue', 'X07July_2_blue', 'X07July_3_green', 'X07July_4_red', 'X07July_5_redEdge1', 'X07July_6_redEdge2', 'X07July_7_redEdge3', 'X07July_8_nearInfrared', 'X07July_8a_redEdge4', 'X07July_11_shortInfrared1', 'X07July_12_shortInfrared2', 'X07July_nbr', 'X07July_ndmi', 'X07July_ndsi', 'X07July_ndvi', 'X07July_ndwi']\n",
    "predictor_aug = ['X08August_1_ultraBlue', 'X08August_2_blue', 'X08August_3_green', 'X08August_4_red', 'X08August_5_redEdge1', 'X08August_6_redEdge2', 'X08August_7_redEdge3', 'X08August_8_nearInfrared', 'X08August_8a_redEdge4', 'X08August_11_shortInfrared1', 'X08August_12_shortInfrared2', 'X08August_nbr', 'X08August_ndmi', 'X08August_ndsi', 'X08August_ndvi', 'X08August_ndwi']\n",
    "predictor_sep = ['X09September_1_ultraBlue', 'X09September_2_blue', 'X09September_3_green', 'X09September_4_red', 'X09September_5_redEdge1', 'X09September_6_redEdge2', 'X09September_7_redEdge3', 'X09September_8_nearInfrared', 'X09September_8a_redEdge4', 'X09September_11_shortInfrared1', 'X09September_12_shortInfrared2', 'X09September_nbr', 'X09September_ndmi', 'X09September_ndsi', 'X09September_ndvi', 'X09September_ndwi']\n",
    "predictor_oct = ['X10October_1_ultraBlue', 'X10October_2_blue', 'X10October_3_green', 'X10October_4_red', 'X10October_5_redEdge1', 'X10October_6_redEdge2', 'X10October_7_redEdge3', 'X10October_8_nearInfrared', 'X10October_8a_redEdge4', 'X10October_11_shortInfrared1', 'X10October_12_shortInfrared2', 'X10October_nbr', 'X10October_ndmi', 'X10October_ndsi', 'X10October_ndvi', 'X10October_ndwi']\n",
    "predictor_all = predictor_env + predictor_may + predictor_jun + predictor_jul + predictor_aug + predictor_sep + predictor_oct\n",
    "iteration = ['iteration']\n",
    "response = ['FLOOD']\n",
    "predict = ['presence']\n",
    "all_variables = predictor_all + response\n",
    "output_variables = iteration + response + predict"
   ]
  },
  {
   "cell_type": "code",
   "execution_count": 4,
   "metadata": {},
   "outputs": [],
   "source": [
    "# Set initial plot sizefig_size = plot.rcParams[\"figure.figsize\"]\n",
    "fig_size = plot.rcParams[\"figure.figsize\"]\n",
    "fig_size[0] = 8\n",
    "fig_size[1] = 6\n",
    "plot.rcParams[\"figure.figsize\"] = fig_size\n",
    "plot.style.use('grayscale')"
   ]
  },
  {
   "cell_type": "markdown",
   "metadata": {},
   "source": [
    "## 2. Define Model Functions"
   ]
  },
  {
   "cell_type": "code",
   "execution_count": 5,
   "metadata": {},
   "outputs": [],
   "source": [
    "# Create a function to create the train and test partitions\n",
    "def partitionData(inData, all_variables, predictors, response, strata):\n",
    "    # Create train and test splits\n",
    "    X = inData[all_variables]\n",
    "    y = inData[response[0]]\n",
    "    stratify = inData[strata[0]]\n",
    "    all_train, all_test, y_train, y_test = train_test_split(X,\n",
    "                                                            y,\n",
    "                                                            test_size = 0.3,\n",
    "                                                            train_size = 0.7,\n",
    "                                                            random_state = None,\n",
    "                                                            shuffle = True,\n",
    "                                                            stratify = stratify)\n",
    "    # Reset the index on the train and test splits\n",
    "    all_train = all_train.reset_index()\n",
    "    all_test = all_test.reset_index()\n",
    "    return all_train, all_test"
   ]
  },
  {
   "cell_type": "code",
   "execution_count": 6,
   "metadata": {},
   "outputs": [],
   "source": [
    "# Create a function to train a classifier on the train X and y and predict the test X\n",
    "def trainPredictClassifier(train, test, predictors, response, classifier):\n",
    "    # Define X and y\n",
    "    X_train = train[predictors]\n",
    "    y_train = train[response[0]]\n",
    "    X_test = test[predictors]\n",
    "    # Fit a classifier to the train X and y\n",
    "    classifier.fit(X_train, y_train)\n",
    "    # Use the classifier to predict class probabilities\n",
    "    prediction = classifier.predict_proba(X_test)\n",
    "    # Concatenate predicted values to test data frame\n",
    "    test = pd.concat([test, pd.DataFrame(prediction)], axis=1)\n",
    "    test = test.rename(index=int, columns={0: 'absence', 1: 'presence'})\n",
    "    # Return the predictions\n",
    "    return test"
   ]
  },
  {
   "cell_type": "code",
   "execution_count": 7,
   "metadata": {},
   "outputs": [],
   "source": [
    "# Define a function to calculate performance metrics based on a specified threshold value\n",
    "def testPresenceThreshold(predict_probability, threshold, y_test):\n",
    "    # Create an empty array of zeroes that matches the length of the probability predictions\n",
    "    predict_thresholded = np.zeros(predict_probability.shape)\n",
    "    # Set values for all probabilities greater than or equal to the threshold equal to 1\n",
    "    predict_thresholded[predict_probability >= threshold] = 1\n",
    "    # Determine error rates\n",
    "    confusion_test = confusion_matrix(y_test, predict_thresholded)\n",
    "    true_negative = confusion_test[0,0]\n",
    "    false_negative = confusion_test[1,0]\n",
    "    true_positive = confusion_test[1,1]\n",
    "    false_positive = confusion_test[0,1]\n",
    "    # Calculate sensitivity and specificity\n",
    "    sensitivity = true_positive / (true_positive + false_negative)\n",
    "    specificity = true_negative / (true_negative + false_positive)\n",
    "    # Calculate AUC score\n",
    "    auc = roc_auc_score(y_test, predict_probability)\n",
    "    # Calculate overall accuracy\n",
    "    accuracy = (true_negative + true_positive) / (true_negative + false_positive + false_negative + true_positive)\n",
    "    # Return the thresholded probabilities and the performance metrics\n",
    "    return (sensitivity, specificity, auc, accuracy)"
   ]
  },
  {
   "cell_type": "code",
   "execution_count": 8,
   "metadata": {},
   "outputs": [],
   "source": [
    "# Create a function to determine a presence threshold\n",
    "def determineOptimalThreshold(predict_probability, y_test):\n",
    "    # Iterate through numbers between 0 and 1000 to output a list of sensitivity and specificity values per threshold number\n",
    "    i = 1\n",
    "    sensitivity_list = []\n",
    "    specificity_list = []\n",
    "    while i < 1001:\n",
    "        threshold = i/1000\n",
    "        sensitivity, specificity, auc, accuracy = testPresenceThreshold(predict_probability, threshold, y_test)\n",
    "        sensitivity_list.append(sensitivity)\n",
    "        specificity_list.append(specificity)\n",
    "        i = i + 1\n",
    "    # Calculate a list of absolute value difference between sensitivity and specificity and find the optimal threshold\n",
    "    difference_list = [np.absolute(a - b) for a, b in zip(sensitivity_list, specificity_list)]\n",
    "    value, threshold = min((value, threshold) for (threshold, value) in enumerate(difference_list))\n",
    "    threshold = threshold/1000\n",
    "    # Calculate the performance of the optimal threshold\n",
    "    sensitivity, specificity, auc, accuracy = testPresenceThreshold(predict_probability, threshold, y_test)\n",
    "    # Return the optimal threshold and the performance metrics of the optimal threshold\n",
    "    return threshold, sensitivity, specificity, auc, accuracy"
   ]
  },
  {
   "cell_type": "code",
   "execution_count": 9,
   "metadata": {},
   "outputs": [],
   "source": [
    "# Plot the results of the recursive feature eliminator for the classifier\n",
    "def plotFeatureElimination(feature_eliminator, y_label, feature_plot_file):\n",
    "    feature_plot = plot.figure()\n",
    "    fig_size = plot.rcParams[\"figure.figsize\"]\n",
    "    fig_size[0] = 8\n",
    "    fig_size[1] = 6\n",
    "    plot.rcParams[\"figure.figsize\"] = fig_size\n",
    "    plot.xlabel(\"Number of features selected\")\n",
    "    plot.ylabel(y_label)\n",
    "    plot.plot(range(1, len(feature_eliminator.grid_scores_) + 1), feature_eliminator.grid_scores_)\n",
    "    plot.show()\n",
    "    feature_plot.savefig(feature_plot_file, bbox_inches=\"tight\", dpi=300)\n",
    "    # Clear plot workspace\n",
    "    plot.clf()\n",
    "    plot.close()"
   ]
  },
  {
   "cell_type": "code",
   "execution_count": 10,
   "metadata": {},
   "outputs": [],
   "source": [
    "# Define a function to plot Pearson correlation of predictor variables\n",
    "def plotVariableCorrelation(X_train, outFile):\n",
    "    # Calculate Pearson correlation coefficient between the predictor variables, where -1 is perfect negative correlation and 1 is perfect positive correlation\n",
    "    correlation = X_train.astype('float64').corr()\n",
    "    # Generate a mask for the upper triangle of plot\n",
    "    mask = np.zeros_like(correlation, dtype=np.bool)\n",
    "    mask[np.triu_indices_from(mask)] = True\n",
    "    # Set up the matplotlib figure\n",
    "    f, ax = plot.subplots(figsize=(20, 18))\n",
    "    # Generate a custom diverging colormap\n",
    "    cmap = sns.diverging_palette(220, 10, as_cmap=True)\n",
    "    # Draw the heatmap with the mask and correct aspect ratio\n",
    "    correlation_plot = sns.heatmap(correlation, mask=mask, cmap=cmap, vmax=.3, center=0, square=True, linewidths=.5, cbar_kws={'shrink': .5})\n",
    "    correlation_figure = correlation_plot.get_figure()\n",
    "    correlation_figure.savefig(outFile, bbox_inches='tight', dpi=300)\n",
    "    # Clear plot workspace\n",
    "    plot.clf()\n",
    "    plot.close()"
   ]
  },
  {
   "cell_type": "code",
   "execution_count": 11,
   "metadata": {},
   "outputs": [],
   "source": [
    "# Define a function to plot variable importances\n",
    "def plotVariableImportances(inModel, X_train, outVariableFile):\n",
    "    # Get numerical feature importances\n",
    "    importances = list(inModel.feature_importances_)\n",
    "    # List of tuples with variable and importance\n",
    "    feature_list = list(X_train.columns)\n",
    "    feature_importances = [(feature, round(importance, 2)) for feature, importance in zip(feature_list, importances)]\n",
    "    # Sort the feature importances by most important first\n",
    "    feature_importances = sorted(feature_importances, key = lambda x: x[1], reverse = True)\n",
    "    # Initialize the plot and set figure size\n",
    "    variable_figure = plot.figure()\n",
    "    fig_size = plot.rcParams[\"figure.figsize\"]\n",
    "    fig_size[0] = 18\n",
    "    fig_size[1] = 6\n",
    "    plot.rcParams[\"figure.figsize\"] = fig_size\n",
    "    # Create list of x locations for plotting\n",
    "    x_values = list(range(len(importances)))\n",
    "    # Make a bar chart of the variable importances\n",
    "    plot.bar(x_values, importances, orientation = 'vertical')\n",
    "    # Tick labels for x axis\n",
    "    plot.xticks(x_values, feature_list, rotation='vertical')\n",
    "    # Axis labels and title\n",
    "    plot.ylabel('Importance'); plot.xlabel('Variable'); plot.title('Variable Importances');\n",
    "    # Export\n",
    "    variable_figure.savefig(outVariableFile, bbox_inches=\"tight\", dpi=300)\n",
    "    # Clear plot workspace\n",
    "    plot.clf()\n",
    "    plot.close()"
   ]
  },
  {
   "cell_type": "code",
   "execution_count": 12,
   "metadata": {},
   "outputs": [],
   "source": [
    "# Create a function to train and export a classifier\n",
    "def trainExportClassifier(input_data, predictors, response, classifier, outModel, outImportance):\n",
    "    # Define the predictor labels (X) and the response label (y) in the input dataframe\n",
    "    X = input_data[predictors]\n",
    "    y = input_data[response[0]]\n",
    "    # Fit a classifier to the input dataset\n",
    "    classifier.fit(X, y)\n",
    "    # Save classifier to an external file\n",
    "    joblib.dump(classifier, outModel)\n",
    "    # Export a variable importance plot\n",
    "    plotVariableImportances(classifier, X, outImportance)"
   ]
  },
  {
   "cell_type": "markdown",
   "metadata": {},
   "source": [
    "## 3. Conduct Analyses"
   ]
  },
  {
   "cell_type": "markdown",
   "metadata": {},
   "source": [
    "### 3.1 Process input data"
   ]
  },
  {
   "cell_type": "code",
   "execution_count": 13,
   "metadata": {},
   "outputs": [
    {
     "name": "stdout",
     "output_type": "stream",
     "text": [
      "Succeeded at 2019-04-20 12:11 (Elapsed time: 0:00:00)\n"
     ]
    }
   ],
   "source": [
    "# Start timing function execution\n",
    "start = time.time()\n",
    "# Create data frame of input data\n",
    "sample_data = pd.read_csv(sample_file)\n",
    "# Remove rows with missing values\n",
    "sample_data = sample_data.dropna(axis=0, how='any')\n",
    "# Convert values to floats\n",
    "sample_data[predictor_all] = sample_data[predictor_all].astype(float)\n",
    "# Shuffle data\n",
    "sample_data = shuffle(sample_data)\n",
    "# Define X and y\n",
    "X = sample_data[predictor_all]\n",
    "y = sample_data[response[0]]\n",
    "# End timing\n",
    "end = time.time()\n",
    "elapsed = int(end - start)\n",
    "success_time = datetime.datetime.now()\n",
    "# Report process success\n",
    "out_process = 'Succeeded at {0} (Elapsed time: {1})'.format(success_time.strftime(\"%Y-%m-%d %H:%M\"),\n",
    "                                                            datetime.timedelta(seconds=elapsed))\n",
    "print(out_process)"
   ]
  },
  {
   "cell_type": "code",
   "execution_count": 14,
   "metadata": {},
   "outputs": [],
   "source": [
    "# Define classifier\n",
    "classifier = RandomForestClassifier(n_estimators = 5000,\n",
    "                                    criterion = 'entropy',\n",
    "                                    max_features = 'log2',\n",
    "                                    bootstrap = True,\n",
    "                                    oob_score = True,\n",
    "                                    n_jobs = 4,\n",
    "                                    class_weight = 'balanced')"
   ]
  },
  {
   "cell_type": "markdown",
   "metadata": {},
   "source": [
    "### 3.2 Recursively Eliminate Features"
   ]
  },
  {
   "cell_type": "code",
   "execution_count": 15,
   "metadata": {},
   "outputs": [
    {
     "name": "stdout",
     "output_type": "stream",
     "text": [
      "Selecting optimal feature set...\n",
      "Optimal number of features : 45\n"
     ]
    },
    {
     "data": {
      "image/png": "[encoded data removed]",
      "text/plain": [
       "<Figure size 576x432 with 1 Axes>"
      ]
     },
     "metadata": {},
     "output_type": "display_data"
    },
    {
     "name": "stdout",
     "output_type": "stream",
     "text": [
      "Succeeded at 2019-04-20 14:34 (Elapsed time: 2:22:10)\n"
     ]
    }
   ],
   "source": [
    "# Start timing function execution\n",
    "start = time.time()\n",
    "print(\"Selecting optimal feature set...\")\n",
    "# Shuffle X and y data\n",
    "X, y = shuffle(X, y)\n",
    "# Define a cross validation split method\n",
    "cv_splits_classifier = ShuffleSplit(n_splits=10, test_size=0.3, train_size=0.7, random_state=None)\n",
    "# Define a recursive feature eliminator for the classifier using shuffled cross validation\n",
    "recursive_eliminator_classifier = RFECV(estimator=classifier, step=1, cv=cv_splits_classifier, scoring='roc_auc')\n",
    "# Fit the recursive feature eliminator\n",
    "recursive_eliminator_classifier.fit(X, y)\n",
    "# Print optimal number of features for the classifier\n",
    "print(\"Optimal number of features : %d\" % recursive_eliminator_classifier.n_features_)\n",
    "# Plot the results of the recursive feature eliminator for the classifier\n",
    "y_label = \"Cross validation score (ROC AUC)\"\n",
    "plotFeatureElimination(recursive_eliminator_classifier, y_label, classifier_feature_file)\n",
    "# Select the optimal subset of features for the classifier\n",
    "classifier_features = pd.DataFrame({'predictor': list(X.columns),\n",
    "                                    'select': recursive_eliminator_classifier.ranking_.tolist()})\n",
    "classifier_features = classifier_features.loc[classifier_features['select'] == 1]\n",
    "classifier_features = classifier_features['predictor'].tolist()\n",
    "# End timing\n",
    "end = time.time()\n",
    "elapsed = int(end - start)\n",
    "success_time = datetime.datetime.now()\n",
    "# Report process success\n",
    "out_process = 'Succeeded at {0} (Elapsed time: {1})'.format(success_time.strftime(\"%Y-%m-%d %H:%M\"),\n",
    "                                                            datetime.timedelta(seconds=elapsed))\n",
    "print(out_process)"
   ]
  },
  {
   "cell_type": "markdown",
   "metadata": {},
   "source": [
    "### 3.3 Train and Test Iterations (n=100)"
   ]
  },
  {
   "cell_type": "code",
   "execution_count": 18,
   "metadata": {},
   "outputs": [
    {
     "name": "stdout",
     "output_type": "stream",
     "text": [
      "Model train-test iteration 1 out of 100 completed...\n",
      "Model train-test iteration 2 out of 100 completed...\n",
      "Model train-test iteration 3 out of 100 completed...\n",
      "Model train-test iteration 4 out of 100 completed...\n",
      "Model train-test iteration 5 out of 100 completed...\n",
      "Model train-test iteration 6 out of 100 completed...\n",
      "Model train-test iteration 7 out of 100 completed...\n",
      "Model train-test iteration 8 out of 100 completed...\n",
      "Model train-test iteration 9 out of 100 completed...\n",
      "Model train-test iteration 10 out of 100 completed...\n",
      "Model train-test iteration 11 out of 100 completed...\n",
      "Model train-test iteration 12 out of 100 completed...\n",
      "Model train-test iteration 13 out of 100 completed...\n",
      "Model train-test iteration 14 out of 100 completed...\n",
      "Model train-test iteration 15 out of 100 completed...\n",
      "Model train-test iteration 16 out of 100 completed...\n",
      "Model train-test iteration 17 out of 100 completed...\n",
      "Model train-test iteration 18 out of 100 completed...\n",
      "Model train-test iteration 19 out of 100 completed...\n",
      "Model train-test iteration 20 out of 100 completed...\n",
      "Model train-test iteration 21 out of 100 completed...\n",
      "Model train-test iteration 22 out of 100 completed...\n",
      "Model train-test iteration 23 out of 100 completed...\n",
      "Model train-test iteration 24 out of 100 completed...\n",
      "Model train-test iteration 25 out of 100 completed...\n",
      "Model train-test iteration 26 out of 100 completed...\n",
      "Model train-test iteration 27 out of 100 completed...\n",
      "Model train-test iteration 28 out of 100 completed...\n",
      "Model train-test iteration 29 out of 100 completed...\n",
      "Model train-test iteration 30 out of 100 completed...\n",
      "Model train-test iteration 31 out of 100 completed...\n",
      "Model train-test iteration 32 out of 100 completed...\n",
      "Model train-test iteration 33 out of 100 completed...\n",
      "Model train-test iteration 34 out of 100 completed...\n",
      "Model train-test iteration 35 out of 100 completed...\n",
      "Model train-test iteration 36 out of 100 completed...\n",
      "Model train-test iteration 37 out of 100 completed...\n",
      "Model train-test iteration 38 out of 100 completed...\n",
      "Model train-test iteration 39 out of 100 completed...\n",
      "Model train-test iteration 40 out of 100 completed...\n",
      "Model train-test iteration 41 out of 100 completed...\n",
      "Model train-test iteration 42 out of 100 completed...\n",
      "Model train-test iteration 43 out of 100 completed...\n",
      "Model train-test iteration 44 out of 100 completed...\n",
      "Model train-test iteration 45 out of 100 completed...\n",
      "Model train-test iteration 46 out of 100 completed...\n",
      "Model train-test iteration 47 out of 100 completed...\n",
      "Model train-test iteration 48 out of 100 completed...\n",
      "Model train-test iteration 49 out of 100 completed...\n",
      "Model train-test iteration 50 out of 100 completed...\n",
      "Model train-test iteration 51 out of 100 completed...\n",
      "Model train-test iteration 52 out of 100 completed...\n",
      "Model train-test iteration 53 out of 100 completed...\n",
      "Model train-test iteration 54 out of 100 completed...\n",
      "Model train-test iteration 55 out of 100 completed...\n",
      "Model train-test iteration 56 out of 100 completed...\n",
      "Model train-test iteration 57 out of 100 completed...\n",
      "Model train-test iteration 58 out of 100 completed...\n",
      "Model train-test iteration 59 out of 100 completed...\n",
      "Model train-test iteration 60 out of 100 completed...\n",
      "Model train-test iteration 61 out of 100 completed...\n",
      "Model train-test iteration 62 out of 100 completed...\n",
      "Model train-test iteration 63 out of 100 completed...\n",
      "Model train-test iteration 64 out of 100 completed...\n",
      "Model train-test iteration 65 out of 100 completed...\n",
      "Model train-test iteration 66 out of 100 completed...\n",
      "Model train-test iteration 67 out of 100 completed...\n",
      "Model train-test iteration 68 out of 100 completed...\n",
      "Model train-test iteration 69 out of 100 completed...\n",
      "Model train-test iteration 70 out of 100 completed...\n",
      "Model train-test iteration 71 out of 100 completed...\n",
      "Model train-test iteration 72 out of 100 completed...\n",
      "Model train-test iteration 73 out of 100 completed...\n",
      "Model train-test iteration 74 out of 100 completed...\n",
      "Model train-test iteration 75 out of 100 completed...\n",
      "Model train-test iteration 76 out of 100 completed...\n",
      "Model train-test iteration 77 out of 100 completed...\n",
      "Model train-test iteration 78 out of 100 completed...\n",
      "Model train-test iteration 79 out of 100 completed...\n",
      "Model train-test iteration 80 out of 100 completed...\n",
      "Model train-test iteration 81 out of 100 completed...\n",
      "Model train-test iteration 82 out of 100 completed...\n",
      "Model train-test iteration 83 out of 100 completed...\n",
      "Model train-test iteration 84 out of 100 completed...\n",
      "Model train-test iteration 85 out of 100 completed...\n",
      "Model train-test iteration 86 out of 100 completed...\n",
      "Model train-test iteration 87 out of 100 completed...\n",
      "Model train-test iteration 88 out of 100 completed...\n",
      "Model train-test iteration 89 out of 100 completed...\n",
      "Model train-test iteration 90 out of 100 completed...\n",
      "Model train-test iteration 91 out of 100 completed...\n",
      "Model train-test iteration 92 out of 100 completed...\n",
      "Model train-test iteration 93 out of 100 completed...\n",
      "Model train-test iteration 94 out of 100 completed...\n",
      "Model train-test iteration 95 out of 100 completed...\n",
      "Model train-test iteration 96 out of 100 completed...\n",
      "Model train-test iteration 97 out of 100 completed...\n",
      "Model train-test iteration 98 out of 100 completed...\n",
      "Model train-test iteration 99 out of 100 completed...\n",
      "Model train-test iteration 100 out of 100 completed...\n",
      "Succeeded at 2019-04-20 14:50 (Elapsed time: 0:14:03)\n"
     ]
    }
   ],
   "source": [
    "# Start timing function execution\n",
    "start = time.time()\n",
    "# Create empty lists to store threshold and performance metrics\n",
    "threshold_list = []\n",
    "sensitivity_list = []\n",
    "specificity_list = []\n",
    "auc_list = []\n",
    "accuracy_list = []\n",
    "# Create an empty data frame to store the test results\n",
    "output_test = pd.DataFrame(columns = output_variables)\n",
    "i = 1\n",
    "while i < 101:\n",
    "    # Split the data into train and test partitions\n",
    "    train, test = partitionData(sample_data, all_variables, predictor_all, response, response)\n",
    "    # Add the iteration count to the test data\n",
    "    test['iteration'] = i\n",
    "    # Train and predict a classifier\n",
    "    test = trainPredictClassifier(train, test, classifier_features, response, classifier)\n",
    "    # Calculate the optimal threshold and performance of the presence-absence classification\n",
    "    threshold, sensitivity, specificity, auc, accuracy = determineOptimalThreshold(test[predict[0]], test[response[0]])\n",
    "    # Add threshold and performance metrics to list\n",
    "    threshold_list.append(threshold)\n",
    "    sensitivity_list.append(sensitivity)\n",
    "    specificity_list.append(specificity)\n",
    "    auc_list.append(auc)\n",
    "    accuracy_list.append(accuracy)\n",
    "    # Add the test results to output data frame\n",
    "    output_test = output_test.append(test, ignore_index=True, sort=True)\n",
    "    print('Model train-test iteration ' + str(i) + ' out of 100 completed...')\n",
    "    # Increase the counter by 1\n",
    "    i = i+1\n",
    "# End timing\n",
    "end = time.time()\n",
    "elapsed = int(end - start)\n",
    "success_time = datetime.datetime.now()\n",
    "# Report process success\n",
    "out_process = 'Succeeded at {0} (Elapsed time: {1})'.format(success_time.strftime(\"%Y-%m-%d %H:%M\"),\n",
    "                                                            datetime.timedelta(seconds=elapsed))\n",
    "print(out_process)"
   ]
  },
  {
   "cell_type": "markdown",
   "metadata": {},
   "source": [
    "## 5.4 Export Results"
   ]
  },
  {
   "cell_type": "code",
   "execution_count": 19,
   "metadata": {},
   "outputs": [],
   "source": [
    "# Export test results to csv\n",
    "output_test.to_csv(output_csv, header=True, index=False, sep=',', encoding='utf-8')"
   ]
  },
  {
   "cell_type": "code",
   "execution_count": 20,
   "metadata": {},
   "outputs": [],
   "source": [
    "# Set initial plot sizefig_size = plot.rcParams[\"figure.figsize\"]\n",
    "fig_size = plot.rcParams[\"figure.figsize\"]\n",
    "fig_size[0] = 16\n",
    "fig_size[1] = 12\n",
    "plot.rcParams[\"figure.figsize\"] = fig_size"
   ]
  },
  {
   "cell_type": "code",
   "execution_count": 21,
   "metadata": {},
   "outputs": [],
   "source": [
    "# Export a Pearson Correlation plot for the predictor variables\n",
    "plotVariableCorrelation(sample_data[predictor_all], variable_correlation)"
   ]
  },
  {
   "cell_type": "code",
   "execution_count": 22,
   "metadata": {},
   "outputs": [],
   "source": [
    "# Set initial plot sizefig_size = plot.rcParams[\"figure.figsize\"]\n",
    "fig_size = plot.rcParams[\"figure.figsize\"]\n",
    "fig_size[0] = 18\n",
    "fig_size[1] = 6\n",
    "plot.rcParams[\"figure.figsize\"] = fig_size"
   ]
  },
  {
   "cell_type": "code",
   "execution_count": 23,
   "metadata": {},
   "outputs": [],
   "source": [
    "# Train and export a final classifier using the full input data\n",
    "trainExportClassifier(sample_data,\n",
    "                      classifier_features,\n",
    "                      response,\n",
    "                      classifier,\n",
    "                      output_classifier,\n",
    "                      importance_classifier)"
   ]
  },
  {
   "cell_type": "code",
   "execution_count": 24,
   "metadata": {},
   "outputs": [],
   "source": [
    "# Calculate mean for threshold and all performance metrics\n",
    "threshold_mean = np.mean(threshold_list)\n",
    "sensitivity_mean = np.mean(sensitivity_list)\n",
    "specificity_mean = np.mean(specificity_list)\n",
    "auc_mean = np.mean(auc_list)\n",
    "accuracy_mean = np.mean(accuracy_list)\n",
    "# Calculate standard deviation for threshold and all performance metrics\n",
    "threshold_sd = np.std(threshold_list)\n",
    "sensitivity_sd = np.std(sensitivity_list)\n",
    "specificity_sd = np.std(specificity_list)\n",
    "auc_sd = np.std(auc_list)\n",
    "accuracy_sd = np.std(accuracy_list)"
   ]
  },
  {
   "cell_type": "code",
   "execution_count": 25,
   "metadata": {},
   "outputs": [],
   "source": [
    "# Export threshold and performance metrics as a table\n",
    "metrics_dataframe = pd.DataFrame({'threshold':threshold_list,\n",
    "                                  'sensitivity':sensitivity_list,\n",
    "                                  'specificity':specificity_list,\n",
    "                                  'auc':auc_list,\n",
    "                                  'accuracy':accuracy_list})\n",
    "metrics_dataframe.to_csv(metrics_file, header=True, index=False, sep=',', encoding='utf-8')"
   ]
  },
  {
   "cell_type": "code",
   "execution_count": 26,
   "metadata": {},
   "outputs": [],
   "source": [
    "# Write a text file to store the presence-absence conversion threshold\n",
    "file = open(threshold_file, 'w')\n",
    "file.write(str(round(threshold_mean, 5)))\n",
    "file.close()"
   ]
  },
  {
   "cell_type": "code",
   "execution_count": 27,
   "metadata": {},
   "outputs": [],
   "source": [
    "# Write html text file\n",
    "output_text = os.path.splitext(output_report)[0] + \".txt\"\n",
    "text_file = open(output_text, \"w\")\n",
    "text_file.write(\"<html>\\n\")\n",
    "text_file.write(\"<head>\\n\")\n",
    "text_file.write(\"<meta http-equiv=\\\"pragma\\\" content=\\\"no-cache\\\">\\n\")\n",
    "text_file.write(\"<meta http-equiv=\\\"Expires\\\" content=\\\"-1\\\">\\n\")\n",
    "text_file.write(\"</head>\\n\")\n",
    "text_file.write(\"<body>\\n\")\n",
    "text_file.write(\"<div style=\\\"width:90%;max-width:1000px;margin-left:auto;margin-right:auto\\\">\\n\")\n",
    "text_file.write(\"<h1 style=\\\"text-align:center;\\\">Distribution model performance for Floodplains</h1>\\n\")\n",
    "text_file.write(\"<br>\" + \"\\n\")\n",
    "text_file.write(\"<h2>Predicted Distribution Pattern</h2>\\n\")\n",
    "text_file.write(\"<p><i>Prediction step has not yet been performed. No output to display.</i></p>\\n\")\n",
    "text_file.write(\"<h2>Recursive Feature Elimination</h2>\\n\")\n",
    "text_file.write(\"<p>A total of 96 features were prepared for the modeling process. Uninformative features are a potential source of noise in the models and retaining the uninformative features could result in reduced predictive performance. We selected the best performing set of features by recursive feature elimination based on the cross validation of ROC AUC for classification.</p>\\n\")\n",
    "text_file.write(\"<p>The optimal number of variables for the classifier was \" + str(recursive_eliminator_classifier.n_features_) + \".</p>\\n\")\n",
    "text_file.write(\"<a target='_blank' href='plots\\\\classifier_feature_elimination.png'><img style='display:inline-block;max-width:720px;width:100%;' src='plots\\\\classifier_feature_elimination.png'></a>\\n\")\n",
    "text_file.write(\"<h2>Model Performance</h2>\\n\")\n",
    "text_file.write(\"<p>Model performance was measured by area under the receiver operating characteristic curve (AUC) and overall accuracy, where specificity and sensitivity are as close to equal as possible (i.e, the model performs equally well at predicting absences and presences). All performance results are reported as the mean and standard deviation of the independent test predictions from 100 train-test splits. For each split, 30% of the data was withheld from model training and used as an independent test partition.</p>\\n\")\n",
    "text_file.write(\"<h3>Overall Performance</h3>\\n\")\n",
    "text_file.write(\"<p>AUC = \" + str(np.round(auc_mean, 2)) + \" +/- \" + str(np.round(auc_sd, 2)) +\"</p>\\n\")\n",
    "text_file.write(\"<p>Presence-Absence Accuracy = \" + str(np.round(accuracy_mean, 2)) + \" +/- \" + str(np.round(accuracy_sd, 2)) +\"</p>\\n\")\n",
    "text_file.write(\"<h3>Classifier Importances</h3>\\n\")\n",
    "text_file.write(\"<p>The Variable Importance plot for the classifier is shown below:</p>\\n\")\n",
    "text_file.write(\"<a target='_blank' href='plots\\\\importance_classifier.png'><img style='display:inline-block;max-width:1000px;width:100%;' src='plots\\\\importance_classifier.png'></a>\\n\")\n",
    "text_file.write(r\"<h2>Variable Correlation</h2>\" + \"\\n\")\n",
    "text_file.write(\"<p>The plot below explores variable correlation. No attempt was made to remove highly correlated variables (shown in the plot dark blue).</p>\\n\")\n",
    "text_file.write(\"<a target='_blank' href='plots\\\\variable_correlation.png'><img style='display:inline-block;width:100%;' src='plots\\\\variable_correlation.png'></a>\\n\")\n",
    "text_file.write(\"</div>\\n\")\n",
    "text_file.write(\"</body>\\n\")\n",
    "text_file.write(\"</html>\\n\")\n",
    "text_file.close()"
   ]
  },
  {
   "cell_type": "code",
   "execution_count": 28,
   "metadata": {},
   "outputs": [],
   "source": [
    "# Rename HTML Text to HTML\n",
    "if os.path.exists(output_report) == True:\n",
    "    os.remove(output_report)\n",
    "os.rename(output_text, output_report)"
   ]
  },
  {
   "cell_type": "code",
   "execution_count": null,
   "metadata": {},
   "outputs": [],
   "source": []
  }
 ],
 "metadata": {
  "kernelspec": {
   "display_name": "Python 3",
   "language": "python",
   "name": "python3"
  },
  "language_info": {
   "codemirror_mode": {
    "name": "ipython",
    "version": 3
   },
   "file_extension": ".py",
   "mimetype": "text/x-python",
   "name": "python",
   "nbconvert_exporter": "python",
   "pygments_lexer": "ipython3",
   "version": "3.7.1"
  }
 },
 "nbformat": 4,
 "nbformat_minor": 2
}
