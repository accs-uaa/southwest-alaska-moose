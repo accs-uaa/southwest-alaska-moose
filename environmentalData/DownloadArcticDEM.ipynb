{
 "cells": [
  {
   "cell_type": "markdown",
   "metadata": {},
   "source": [
    "# Download Arctic DEM Tiles\n",
    "\n",
    "**Timm Nawrocki**  \n",
    "Alaska Center for Conservation Science  \n",
    "2019-03-19"
   ]
  },
  {
   "cell_type": "code",
   "execution_count": null,
   "metadata": {},
   "outputs": [],
   "source": [
    "# -*- coding: utf-8 -*-\n",
    "# ---------------------------------------------------------------------------\n",
    "# Download Arctic DEM Tiles\n",
    "# Author: Timm Nawrocki\n",
    "# Created on: 2019-03-19\n",
    "# Usage: Must be executed as a Jupyter Notebook in an ArcGIS Pro Python 3 installation.\n",
    "# Description: \"Download Arctic DEM Tiles\" contacts a server to download a series of files specified in a csv table. The full url to the resources must be specified in the table.\n",
    "# ---------------------------------------------------------------------------"
   ]
  },
  {
   "cell_type": "markdown",
   "metadata": {},
   "source": [
    "## 1. Initialize Environment"
   ]
  },
  {
   "cell_type": "code",
   "execution_count": null,
   "metadata": {},
   "outputs": [],
   "source": [
    "# Import packages\n",
    "import os\n",
    "import pandas as pd\n",
    "import urllib\n",
    "\n",
    "# Define input file\n",
    "input_table = 'K:/VegetationEcology/BristolBay_Vegetation/Project_GIS/Data_Input/predictor_env/arctic_10m_DEM/SouthwestAlaska_TilesArcticDEM.csv'\n",
    "url_column = 'raster_10m'\n",
    "\n",
    "# Set target directory for downloads\n",
    "directory = 'K:/VegetationEcology/BristolBay_Vegetation/Project_GIS/Data_Input/predictor_env/arctic_10m_DEM/archive'"
   ]
  },
  {
   "cell_type": "markdown",
   "metadata": {},
   "source": [
    "## 2. Download Files"
   ]
  },
  {
   "cell_type": "code",
   "execution_count": null,
   "metadata": {},
   "outputs": [],
   "source": [
    "# Import a csv file with the download urls for the Arctic DEM tiles\n",
    "arctic_dem_tiles = pd.read_csv(input_table)\n",
    "arctic_dem_tiles"
   ]
  },
  {
   "cell_type": "code",
   "execution_count": null,
   "metadata": {},
   "outputs": [],
   "source": [
    "# Initialize download count\n",
    "n = len(arctic_dem_tiles[url_column])\n",
    "print('Beginning download of {0} tiles...'.format(n))\n",
    "count = 1\n",
    "\n",
    "# Loop through urls in the raster_10m column and download\n",
    "try:\n",
    "    for url in arctic_dem_tiles[url_column]:\n",
    "        filedata = urllib.request.urlopen(url)  \n",
    "        datatowrite = filedata.read()\n",
    "        target = os.path.join(directory, os.path.split(url)[1])\n",
    "        with open(target, 'wb') as file:  \n",
    "            file.write(datatowrite)\n",
    "            file.close()\n",
    "        print('Downloaded {0} of {1} tiles...'.format(count, n))\n",
    "        count += 1\n",
    "\n",
    "    print('----------------')\n",
    "    print('Successfully downloaded tiles.')\n",
    "except:\n",
    "    print('----------------')\n",
    "    print('Error downloading tiles. Check urls.')"
   ]
  },
  {
   "cell_type": "code",
   "execution_count": null,
   "metadata": {},
   "outputs": [],
   "source": []
  }
 ],
 "metadata": {
  "kernelspec": {
   "display_name": "Python 3",
   "language": "python",
   "name": "python3"
  },
  "language_info": {
   "codemirror_mode": {
    "name": "ipython",
    "version": 3
   },
   "file_extension": ".py",
   "mimetype": "text/x-python",
   "name": "python",
   "nbconvert_exporter": "python",
   "pygments_lexer": "ipython3",
   "version": "3.6.6"
  }
 },
 "nbformat": 4,
 "nbformat_minor": 2
}
