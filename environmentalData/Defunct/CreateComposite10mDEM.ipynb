{
 "cells": [
  {
   "cell_type": "markdown",
   "metadata": {},
   "source": [
    "# Create Composite 10m DEM\n",
    "\n",
    "**Timm Nawrocki**  \n",
    "Alaska Center for Conservation Science  \n",
    "2019-03-24"
   ]
  },
  {
   "cell_type": "code",
   "execution_count": 1,
   "metadata": {},
   "outputs": [],
   "source": [
    "# -*- coding: utf-8 -*-\n",
    "# ---------------------------------------------------------------------------\n",
    "# Create Composite 10m DEM\n",
    "# Author: Timm Nawrocki\n",
    "# Created on: 2019-03-24\n",
    "# Usage: Must be executed as a Jupyter Notebook in an ArcGIS Pro Python 3 installation.\n",
    "# Description: \"Create Composite 10m DEM\" generates a Digital Elevation Model (DEM) for the Hydrographic Area of Influence of the Bristol Bay Lowlands, Ahklun Mountains, and Game Management Unit 17 by combining the 10m Arctic DEM with a downscaled 60m USGS 3D Elevation Program DEM.\n",
    "# ---------------------------------------------------------------------------"
   ]
  },
  {
   "cell_type": "code",
   "execution_count": 2,
   "metadata": {},
   "outputs": [],
   "source": [
    "# Import packages\n",
    "import arcpy\n",
    "from arcpy.sa import *\n",
    "import os\n",
    "\n",
    "# Set overwrite option\n",
    "arcpy.env.overwriteOutput = True\n",
    "\n",
    "# Set root directory\n",
    "drive = 'E:/'\n",
    "root_directory = os.path.join(drive, 'VegetationEcology/BristolBay_Vegetation/Project_GIS')\n",
    "\n",
    "# Set arcpy working environment\n",
    "arcpy.env.workspace = os.path.join(root_directory, 'BristolBay_Vegetation.gdb')\n",
    "\n",
    "# Define script paths\n",
    "script_directory = os.path.join(drive, 'Repositories/southwest-alaska-moose/modules')\n",
    "arcpy_geoprocessing_script = os.path.join(script_directory, 'arcpy_geoprocessing.py')\n",
    "\n",
    "# Define input datasets\n",
    "arcticDEM_tile_folder = os.path.join(root_directory, 'Data_Input/source_data/elevation/arctic_10m_DEM/raster_tiles')\n",
    "usgs_60m_dem = os.path.join(root_directory, 'Data_Input/source_data/elevation/USGS3DEP_60m_DEM/Alaska_USGS3DEP_Elevation_60m_AKALB_20181106.tif')\n",
    "hydrographic_area = os.path.join(arcpy.env.workspace, 'SouthwestAlaska_HydrographicArea')\n",
    "alaska_boundary = os.path.join(root_directory, 'Data_Input/source_data/boundaries/Alaska_63360_ExcludingSmallIslands.shp')\n",
    "\n",
    "# Define output raster\n",
    "arctic_dem_composite = os.path.join(root_directory, 'Data_Input/source_data/elevation/arctic_10m_DEM/raster_composite/arctic_10m_DEM_composite.tif')\n",
    "bristol_bay_dem = os.path.join(root_directory, 'Data_Input/predictor_env/bristolBay_10m_DEM/bristolBay_10m_DEM.tif')"
   ]
  },
  {
   "cell_type": "code",
   "execution_count": null,
   "metadata": {},
   "outputs": [],
   "source": [
    "# Import and execute arcpy_geoprocessing.py\n",
    "try:\n",
    "    exec(open(arcpy_geoprocessing_script).read())\n",
    "except:\n",
    "    print(\"Error loading arcpy_geoprocessing.py; ensure that script directory is correct:\")\n",
    "    print(script_directory)\n",
    "    quit()"
   ]
  },
  {
   "cell_type": "code",
   "execution_count": null,
   "metadata": {},
   "outputs": [],
   "source": [
    "# Define function to create composite DEM\n",
    "def create_composite_dem(**kwargs):\n",
    "    \"\"\"\n",
    "    Description: creates a DEM from Arctic DEM 10m tiles and the USGS 3DEP 60m DEM\n",
    "    Inputs: 'tile_folder' -- a folder containing the raster tiles for the 10m Arctic DEM\n",
    "            'input_array' -- an array containing game management units, unified ecoregions, and watersheds (10 digit hydrologic units)\n",
    "            'output_array' -- the output should be an array with a full feature class and a clipped feature class\n",
    "    \"\"\"\n",
    "    # Parse key word argument inputs\n",
    "    tile_folder = kwargs['tile_folder']\n",
    "    usgs_60m_dem = kwargs['input_array'][0]\n",
    "    hydrographic_area = kwargs['input_array'][1]\n",
    "    alaska_boundary = kwargs['input_array'][2]\n",
    "    arctic_dem_composite = kwargs['output_array'][0]\n",
    "    bristol_bay_dem = kwargs['output_array'][1]\n",
    "    # Define intermediate datasets\n",
    "    mosaic_location, mosaic_name = os.path.split(arctic_dem_composite)\n",
    "    mask_feature = 'mask_feature'\n",
    "    arctic_dem_composite_akalb = os.path.join(mosaic_location, 'arctic_10m_DEM_composite_AKALB.tif')\n",
    "    usgs_60m_dem_resample = os.path.join(os.path.split(usgs_60m_dem)[0], 'usgs_60m_dem_resample.tif')\n",
    "    # Create a list of Arctic DEM raster tiles\n",
    "    tile_list = []\n",
    "    for file in os.listdir(tile_folder):\n",
    "        if file.endswith('tif'):\n",
    "            tile_list = tile_list + [os.path.join(tile_folder, file)]\n",
    "    print('Process will form composite from {0} raster tiles...'.format(len(tile_list)))\n",
    "    # Define projection for all raster tiles as National Snow and Ice Data Center Sea Ice Polar Stereographic North (WGS84)\n",
    "    polar_stereographic = arcpy.SpatialReference(3413) #WGS 1984 NSIDC Sea Ice Polar Stereographic North\n",
    "    for raster in tile_list:\n",
    "        arcpy.DefineProjection_management(raster, polar_stereographic)\n",
    "    print('Defined projection for {0} raster tiles...'.format(len(tile_list)))\n",
    "    # Mosaic raster tiles to new raster\n",
    "    arcpy.MosaicToNewRaster_management(tile_list,\n",
    "                                       mosaic_location,\n",
    "                                       mosaic_name,\n",
    "                                       polar_stereographic,\n",
    "                                       '32_BIT_FLOAT',\n",
    "                                       '10',\n",
    "                                       '1',\n",
    "                                       'MAXIMUM',\n",
    "                                       'FIRST')\n",
    "    print('Mosaicked raster tiles to new raster...')\n",
    "    # Set snap raster\n",
    "    arcpy.env.snapRaster = usgs_60m_dem\n",
    "    # Project Arctic DEM composite to NAD 1983 Alaska Albers\n",
    "    akalb = arcpy.SpatialReference(3338) #NAD 1983 Alaska Albers\n",
    "    transform_method = 'WGS_1984_(ITRF00)_To_NAD_1983'\n",
    "    arcpy.ProjectRaster_management(arctic_dem_composite,\n",
    "                                   arctic_dem_composite_akalb,\n",
    "                                   akalb, 'BILINEAR',\n",
    "                                   '10',\n",
    "                                   transform_method)\n",
    "    print('Projected Arctic DEM composite to NAD 1983 Alaska Albers...')\n",
    "    # Clip hydrographic area to Alaska boundary to form mask\n",
    "    arcpy.Clip_analysis(hydrographic_area, alaska_boundary, mask_feature)\n",
    "    print('Created mask feature class...')\n",
    "    # Downscale USGS 3DEP 60m DEM to 10m\n",
    "    usgs_60m_extract = ExtractByMask(usgs_60m_dem, mask_feature)\n",
    "    arcpy.Resample_management(usgs_60m_extract, usgs_60m_dem_resample, '10 10', 'BILINEAR')\n",
    "    print('Downsampled USGS 3DEP 60m DEM to 10m...')\n",
    "    # Fill holes in the Arctic DEM with the resampled USGS DEM\n",
    "    filled_raster = Con(IsNull(arctic_dem_composite_akalb), usgs_60m_dem_resample, arctic_dem_composite_akalb)\n",
    "    print('Filled NoData cells in Arctic DEM with downsampled USGS DEM...')\n",
    "    extract_raster = ExtractByMask(filled_raster, mask_feature)\n",
    "    print('Extracted DEM to mask feature class...')\n",
    "    integer_raster = Int(extract_raster + 0.5)\n",
    "    print('Converted floating values to integers...')\n",
    "    arcpy.CopyRaster_management(integer_raster, bristol_bay_dem, '', '', '-32768', 'NONE', 'NONE', '16_BIT_SIGNED', 'NONE', 'NONE', 'TIFF', 'NONE')\n",
    "    print('Created output Bristol Bay DEM...')\n",
    "    # Delete intermediate dataset\n",
    "    #arcpy.Delete_management(mask_feature)\n",
    "    #out_process = arcpy.Delete_management(usgs_60m_dem_resample)\n",
    "    #return out_process"
   ]
  },
  {
   "cell_type": "code",
   "execution_count": null,
   "metadata": {},
   "outputs": [],
   "source": [
    "# Define input and output arrays\n",
    "create_dem_inputs = [usgs_60m_dem, hydrographic_area, alaska_boundary]\n",
    "create_dem_outputs = [arctic_dem_composite, bristol_bay_dem]\n",
    "\n",
    "# Create key word arguments\n",
    "create_dem_kwargs = {'tile_folder' : arcticDEM_tile_folder,\n",
    "                     'input_array' : create_dem_inputs,\n",
    "                     'output_array' : create_dem_outputs\n",
    "                    }\n",
    "\n",
    "# Process the create polygon function with the point array\n",
    "arcpy_geoprocessing(create_composite_dem, **create_dem_kwargs)"
   ]
  },
  {
   "cell_type": "code",
   "execution_count": 4,
   "metadata": {},
   "outputs": [],
   "source": [
    "mosaic_location, mosaic_name = os.path.split(arctic_dem_composite)\n",
    "mask_feature = 'mask_feature'\n",
    "arctic_dem_composite_akalb = os.path.join(mosaic_location, 'arctic_10m_DEM_composite_AKALB.tif')\n",
    "usgs_60m_dem_resample = os.path.join(os.path.split(usgs_60m_dem)[0], 'usgs_60m_dem_resample.tif')"
   ]
  },
  {
   "cell_type": "code",
   "execution_count": 7,
   "metadata": {},
   "outputs": [
    {
     "name": "stdout",
     "output_type": "stream",
     "text": [
      "Process will form composite from 56 raster tiles...\n"
     ]
    }
   ],
   "source": [
    "tile_list = []\n",
    "for file in os.listdir(arcticDEM_tile_folder):\n",
    "    if file.endswith('tif'):\n",
    "        tile_list = tile_list + [os.path.join(arcticDEM_tile_folder, file)]\n",
    "print('Process will form composite from {0} raster tiles...'.format(len(tile_list)))"
   ]
  },
  {
   "cell_type": "code",
   "execution_count": 13,
   "metadata": {},
   "outputs": [],
   "source": [
    "polar_stereographic = arcpy.SpatialReference(3413) #WGS 1984 NSIDC Sea Ice Polar Stereographic North"
   ]
  },
  {
   "cell_type": "code",
   "execution_count": 14,
   "metadata": {},
   "outputs": [],
   "source": [
    "arcpy.env.snapRaster = usgs_60m_dem"
   ]
  },
  {
   "cell_type": "code",
   "execution_count": 17,
   "metadata": {},
   "outputs": [
    {
     "data": {
      "text/plain": [
       "<Result 'E:\\\\VegetationEcology\\\\BristolBay_Vegetation\\\\Project_GIS\\\\Data_Input\\\\source_data\\\\elevation\\\\arctic_10m_DEM\\\\raster_composite\\\\arctic_10m_DEM_composite_AKALB.tif'>"
      ]
     },
     "execution_count": 17,
     "metadata": {},
     "output_type": "execute_result"
    }
   ],
   "source": [
    "akalb = arcpy.SpatialReference(3338) #NAD 1983 Alaska Albers\n",
    "transform_method = 'WGS_1984_(ITRF00)_To_NAD_1983'\n",
    "arcpy.ProjectRaster_management(arctic_dem_composite, arctic_dem_composite_akalb, akalb, 'BILINEAR', '10', transform_method)"
   ]
  },
  {
   "cell_type": "code",
   "execution_count": 18,
   "metadata": {},
   "outputs": [
    {
     "data": {
      "text/plain": [
       "<Result 'E:/VegetationEcology/BristolBay_Vegetation/Project_GIS\\\\BristolBay_Vegetation.gdb\\\\mask_feature'>"
      ]
     },
     "execution_count": 18,
     "metadata": {},
     "output_type": "execute_result"
    }
   ],
   "source": [
    "arcpy.Clip_analysis(hydrographic_area, alaska_boundary, mask_feature)"
   ]
  },
  {
   "cell_type": "code",
   "execution_count": 19,
   "metadata": {},
   "outputs": [
    {
     "data": {
      "text/plain": [
       "<Result 'E:\\\\VegetationEcology\\\\BristolBay_Vegetation\\\\Project_GIS\\\\Data_Input\\\\source_data\\\\elevation\\\\USGS3DEP_60m_DEM\\\\usgs_60m_dem_resample.tif'>"
      ]
     },
     "execution_count": 19,
     "metadata": {},
     "output_type": "execute_result"
    }
   ],
   "source": [
    "usgs_60m_extract = ExtractByMask(usgs_60m_dem, mask_feature)\n",
    "arcpy.Resample_management(usgs_60m_extract, usgs_60m_dem_resample, '10 10', 'BILINEAR')"
   ]
  },
  {
   "cell_type": "code",
   "execution_count": 20,
   "metadata": {},
   "outputs": [
    {
     "name": "stdout",
     "output_type": "stream",
     "text": [
      "Filled NoData cells in Arctic DEM with downsampled USGS DEM...\n"
     ]
    }
   ],
   "source": [
    "filled_raster = Con(IsNull(arctic_dem_composite_akalb), usgs_60m_dem_resample, arctic_dem_composite_akalb)\n",
    "print('Filled NoData cells in Arctic DEM with downsampled USGS DEM...')"
   ]
  },
  {
   "cell_type": "code",
   "execution_count": 21,
   "metadata": {},
   "outputs": [
    {
     "name": "stdout",
     "output_type": "stream",
     "text": [
      "Extracted DEM to mask feature class...\n"
     ]
    }
   ],
   "source": [
    "extract_raster = ExtractByMask(filled_raster, mask_feature)\n",
    "print('Extracted DEM to mask feature class...')"
   ]
  },
  {
   "cell_type": "code",
   "execution_count": 22,
   "metadata": {},
   "outputs": [
    {
     "name": "stdout",
     "output_type": "stream",
     "text": [
      "Converted floating values to integers...\n"
     ]
    }
   ],
   "source": [
    "integer_raster = Int(extract_raster + 0.5)\n",
    "print('Converted floating values to integers...')"
   ]
  },
  {
   "cell_type": "code",
   "execution_count": 23,
   "metadata": {},
   "outputs": [
    {
     "data": {
      "text/plain": [
       "<Result 'E:\\\\VegetationEcology\\\\BristolBay_Vegetation\\\\Project_GIS\\\\Data_Input\\\\predictor_env\\\\bristolBay_10m_DEM\\\\bristolBay_10m_DEM.tif'>"
      ]
     },
     "execution_count": 23,
     "metadata": {},
     "output_type": "execute_result"
    }
   ],
   "source": [
    "arcpy.CopyRaster_management(integer_raster, bristol_bay_dem, '', '', '-32768', 'NONE', 'NONE', '16_BIT_SIGNED', 'NONE', 'NONE', 'TIFF', 'NONE')"
   ]
  },
  {
   "cell_type": "code",
   "execution_count": null,
   "metadata": {},
   "outputs": [],
   "source": []
  }
 ],
 "metadata": {
  "kernelspec": {
   "display_name": "Python 3",
   "language": "python",
   "name": "python3"
  },
  "language_info": {
   "codemirror_mode": {
    "name": "ipython",
    "version": 3
   },
   "file_extension": ".py",
   "mimetype": "text/x-python",
   "name": "python",
   "nbconvert_exporter": "python",
   "pygments_lexer": "ipython3",
   "version": "3.6.6"
  }
 },
 "nbformat": 4,
 "nbformat_minor": 2
}
